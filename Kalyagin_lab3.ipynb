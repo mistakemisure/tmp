{
 "cells": [
  {
   "cell_type": "code",
   "execution_count": 1,
   "metadata": {
    "collapsed": true
   },
   "outputs": [],
   "source": [
    "from pandas_datareader import data\n",
    "import matplotlib.pyplot as plt\n",
    "import pandas as pd\n",
    "import math\n",
    "import datetime\n",
    "import numpy as np"
   ]
  },
  {
   "cell_type": "code",
   "execution_count": 2,
   "metadata": {
    "collapsed": true
   },
   "outputs": [],
   "source": [
    "# Define which online source one should use\n",
    "data_source = 'yahoo'\n",
    "start_date = '2010-01-01'\n",
    "end_date = '2011-12-31'"
   ]
  },
  {
   "cell_type": "code",
   "execution_count": 3,
   "metadata": {
    "collapsed": false
   },
   "outputs": [],
   "source": [
    "# Define the instruments to download. We would like to see Apple, Microsoft\n",
    "tickers_IND1 = ['MMM','AXP','AAPL','BA','CAT','CVX','CSCO','KO','DWDP','XOM','GE','GS','HD','IBM','INTC','JNJ','JPM','MCD','MRK','MSFT','NKE','PFE','PG','TRV','UTX','UNH','VZ','V','WMT','DIS']\n",
    "\n",
    "# User pandas_reader.data.DataReader to load the desired data. As simple as that.\n",
    "panel_data_IND1 = data.DataReader(tickers_IND1, data_source, start_date, end_date)"
   ]
  },
  {
   "cell_type": "code",
   "execution_count": 4,
   "metadata": {
    "collapsed": true
   },
   "outputs": [],
   "source": [
    "#tickers_IND2 = ['BAC','GE','AMD','MU','INTC','AAPL','ORCL','MSFT','CHK','T','CTL','CMCSA','F','FOXA','FCX','CSCO','C','MRO','FB','AES','HBAN','WFC','PFE','AMAT','JPM','CVS','NVDA','GM','RF','WMT','VZ','DIS','KEY','CSX','MRK','HPE','M','KMI','HPQ','SLB']\n",
    "\n",
    "#panel_data_IND2= data.DataReader(tickers_IND2, data_source, start_date, end_date)"
   ]
  },
  {
   "cell_type": "code",
   "execution_count": 5,
   "metadata": {
    "collapsed": false
   },
   "outputs": [
    {
     "name": "stdout",
     "output_type": "stream",
     "text": [
      "<class 'pandas.core.panel.Panel'>\n",
      "Dimensions: 6 (items) x 505 (major_axis) x 30 (minor_axis)\n",
      "Items axis: Adj Close to Volume\n",
      "Major_axis axis: 2011-12-30 00:00:00 to 2009-12-31 00:00:00\n",
      "Minor_axis axis: AAPL to XOM\n"
     ]
    }
   ],
   "source": [
    "print panel_data_IND1\n",
    "#print panel_data_IND2"
   ]
  },
  {
   "cell_type": "code",
   "execution_count": 6,
   "metadata": {
    "collapsed": false
   },
   "outputs": [],
   "source": [
    "def fconv(panel_data):\n",
    "    del panel_data['Open']\n",
    "    del panel_data['Close']\n",
    "    del panel_data['High']\n",
    "    del panel_data['Low']\n",
    "\n",
    "    panel_data = panel_data[:,::-1,:]\n",
    "fconv(panel_data_IND1)\n",
    "#fconv(panel_data_IND2)"
   ]
  },
  {
   "cell_type": "code",
   "execution_count": 7,
   "metadata": {
    "collapsed": false
   },
   "outputs": [
    {
     "name": "stdout",
     "output_type": "stream",
     "text": [
      "days: 504\n",
      "companies in dow30: 30\n"
     ]
    }
   ],
   "source": [
    "numberOfDays = len(panel_data_IND1.axes[1]) -1 \n",
    "print \"days: \" + str(numberOfDays)\n",
    "n_IND1 = len(tickers_IND1)\n",
    "print \"companies in dow30: \" + str(n_IND1)\n",
    "#n_IND2 = len(tickers_IND2)\n",
    "#print \"companies in dow30: \" + str(n_IND2)"
   ]
  },
  {
   "cell_type": "code",
   "execution_count": 8,
   "metadata": {
    "collapsed": false
   },
   "outputs": [
    {
     "name": "stdout",
     "output_type": "stream",
     "text": [
      "0 []\n"
     ]
    }
   ],
   "source": [
    "c=0\n",
    "l=[]\n",
    "for i in range(2):\n",
    "    for j in range(numberOfDays + 1):\n",
    "        for k in range(len(tickers_IND1)):\n",
    "            \n",
    "            if (math.isnan(panel_data_IND1[i,j,k])):\n",
    "                if(l.count(tickers_IND1[k]) == 0):\n",
    "                    l.append(tickers_IND1[k])\n",
    "                c+=1\n",
    "print c, l"
   ]
  },
  {
   "cell_type": "code",
   "execution_count": 9,
   "metadata": {
    "collapsed": false
   },
   "outputs": [],
   "source": [
    "def flogprof(panel_data, numberOfDays, n):\n",
    "    logProf = [[round(math.log(panel_data[0,i,j] / panel_data[0,i-1,j]), 4) for i in range(1,numberOfDays + 1)] for j in range(n)] \n",
    "    return logProf\n",
    "    \n",
    "logProf_IND1 = flogprof(panel_data=panel_data_IND1, numberOfDays=numberOfDays,n=n_IND1)\n",
    "#logProf_IND2 = flogprof(panel_data=panel_data_IND2, numberOfDays=numberOfDays,n=n_IND2)"
   ]
  },
  {
   "cell_type": "code",
   "execution_count": 28,
   "metadata": {
    "collapsed": false
   },
   "outputs": [
    {
     "name": "stdout",
     "output_type": "stream",
     "text": [
      "30\n",
      "504\n"
     ]
    }
   ],
   "source": [
    "print len(logProf_IND1)\n",
    "print len(logProf_IND1[0])"
   ]
  },
  {
   "cell_type": "code",
   "execution_count": 34,
   "metadata": {
    "collapsed": false
   },
   "outputs": [
    {
     "name": "stdout",
     "output_type": "stream",
     "text": [
      "504\n",
      "30\n"
     ]
    }
   ],
   "source": [
    "a = np.array(logProf_IND1)\n",
    "logprofT = a.transpose() \n",
    "print len(logprofT)\n",
    "print len(logprofT[0])"
   ]
  },
  {
   "cell_type": "code",
   "execution_count": 42,
   "metadata": {
    "collapsed": true
   },
   "outputs": [],
   "source": [
    "import scipy\n",
    "from scipy.optimize import minimize, rosen, rosen_der"
   ]
  },
  {
   "cell_type": "code",
   "execution_count": 86,
   "metadata": {
    "collapsed": false
   },
   "outputs": [],
   "source": [
    "def ind(matrix, X):\n",
    "    Y = []\n",
    "    for day in matrix:\n",
    "        sum = 0\n",
    "        for i,elem in enumerate(day):\n",
    "            sum += elem*X[i]\n",
    "        Y.append(sum)\n",
    "    return Y"
   ]
  },
  {
   "cell_type": "code",
   "execution_count": 87,
   "metadata": {
    "collapsed": true
   },
   "outputs": [],
   "source": [
    "def R(X, matrix):\n",
    "    Y = ind(matrix, X)\n",
    "    r = 0\n",
    "    for i,day in enumerate(matrix):\n",
    "        for elem in day:\n",
    "            r += (elem - Y[i])**2\n",
    "    return r"
   ]
  },
  {
   "cell_type": "code",
   "execution_count": 88,
   "metadata": {
    "collapsed": true
   },
   "outputs": [],
   "source": [
    "# решение задачи минимизации риска при заданнной доходности\n",
    "def minR(matrix):\n",
    "    X0 = np.zeros(len(matrix[0]))\n",
    "    res = scipy.optimize.minimize(fun=R, x0=X0, args=matrix)\n",
    "    return res"
   ]
  },
  {
   "cell_type": "code",
   "execution_count": 89,
   "metadata": {
    "collapsed": false
   },
   "outputs": [],
   "source": [
    "result =minR(logprofT)"
   ]
  },
  {
   "cell_type": "code",
   "execution_count": 90,
   "metadata": {
    "collapsed": false
   },
   "outputs": [
    {
     "name": "stdout",
     "output_type": "stream",
     "text": [
      "[ 0.03333499  0.03333311  0.03333417  0.03333511  0.03333283  0.03333012\n",
      "  0.03333402  0.03333241  0.03333139  0.03333245  0.03333458  0.03333326\n",
      "  0.03333431  0.03333524  0.03333456  0.03333205  0.03333068  0.03333264\n",
      "  0.03333608  0.03333399  0.0333326   0.03333068  0.03333407  0.0333338\n",
      "  0.03333348  0.03333132  0.03333308  0.03333363  0.03333227  0.03333696]\n"
     ]
    }
   ],
   "source": [
    "X = result.x\n",
    "print X"
   ]
  },
  {
   "cell_type": "code",
   "execution_count": 91,
   "metadata": {
    "collapsed": false
   },
   "outputs": [
    {
     "name": "stdout",
     "output_type": "stream",
     "text": [
      "504\n"
     ]
    }
   ],
   "source": [
    "Y = ind(logprofT, X)\n",
    "print len(Y)"
   ]
  },
  {
   "cell_type": "code",
   "execution_count": 92,
   "metadata": {
    "collapsed": false
   },
   "outputs": [
    {
     "data": {
      "image/png": "[encoded data removed]",
      "text/plain": [
       "<matplotlib.figure.Figure at 0xdf5f400>"
      ]
     },
     "metadata": {},
     "output_type": "display_data"
    }
   ],
   "source": [
    "plt.plot(range(numberOfDays), Y, '-g')\n",
    "plt.show()"
   ]
  },
  {
   "cell_type": "code",
   "execution_count": null,
   "metadata": {
    "collapsed": true
   },
   "outputs": [],
   "source": []
  }
 ],
 "metadata": {
  "anaconda-cloud": {},
  "kernelspec": {
   "display_name": "Python [conda root]",
   "language": "python",
   "name": "conda-root-py"
  },
  "language_info": {
   "codemirror_mode": {
    "name": "ipython",
    "version": 2
   },
   "file_extension": ".py",
   "mimetype": "text/x-python",
   "name": "python",
   "nbconvert_exporter": "python",
   "pygments_lexer": "ipython2",
   "version": "2.7.12"
  }
 },
 "nbformat": 4,
 "nbformat_minor": 1
}
