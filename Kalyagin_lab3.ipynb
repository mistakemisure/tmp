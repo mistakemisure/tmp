{
 "cells": [
  {
   "cell_type": "code",
   "execution_count": 1,
   "metadata": {
    "collapsed": true
   },
   "outputs": [],
   "source": [
    "from pandas_datareader import data\n",
    "import matplotlib.pyplot as plt\n",
    "import pandas as pd\n",
    "import math\n",
    "import datetime\n",
    "import numpy as np"
   ]
  },
  {
   "cell_type": "code",
   "execution_count": 2,
   "metadata": {
    "collapsed": true
   },
   "outputs": [],
   "source": [
    "# Define which online source one should use\n",
    "data_source = 'yahoo'\n",
    "start_date = '2010-01-01'\n",
    "end_date = '2011-12-31'"
   ]
  },
  {
   "cell_type": "code",
   "execution_count": 3,
   "metadata": {
    "collapsed": false
   },
   "outputs": [],
   "source": [
    "# Define the instruments to download. We would like to see Apple, Microsoft\n",
    "tickers_IND1 = ['MMM','AXP','AAPL','BA','CAT','CVX','CSCO','KO','DWDP','XOM','GE','GS','HD','IBM','INTC','JNJ','JPM','MCD','MRK','MSFT','NKE','PFE','PG','TRV','UTX','UNH','VZ','V','WMT','DIS']\n",
    "\n",
    "# User pandas_reader.data.DataReader to load the desired data. As simple as that.\n",
    "panel_data_IND1 = data.DataReader(tickers_IND1, data_source, start_date, end_date)"
   ]
  },
  {
   "cell_type": "code",
   "execution_count": 4,
   "metadata": {
    "collapsed": true
   },
   "outputs": [],
   "source": [
    "#tickers_IND2 = ['BAC','GE','AMD','MU','INTC','AAPL','ORCL','MSFT','CHK','T','CTL','CMCSA','F','FOXA','FCX','CSCO','C','MRO','FB','AES','HBAN','WFC','PFE','AMAT','JPM','CVS','NVDA','GM','RF','WMT','VZ','DIS','KEY','CSX','MRK','HPE','M','KMI','HPQ','SLB']\n",
    "\n",
    "#panel_data_IND2= data.DataReader(tickers_IND2, data_source, start_date, end_date)"
   ]
  },
  {
   "cell_type": "code",
   "execution_count": 5,
   "metadata": {
    "collapsed": false
   },
   "outputs": [
    {
     "name": "stdout",
     "output_type": "stream",
     "text": [
      "<class 'pandas.core.panel.Panel'>\n",
      "Dimensions: 6 (items) x 505 (major_axis) x 30 (minor_axis)\n",
      "Items axis: Adj Close to Volume\n",
      "Major_axis axis: 2011-12-30 00:00:00 to 2009-12-31 00:00:00\n",
      "Minor_axis axis: AAPL to XOM\n"
     ]
    }
   ],
   "source": [
    "print panel_data_IND1\n",
    "#print panel_data_IND2"
   ]
  },
  {
   "cell_type": "code",
   "execution_count": 180,
   "metadata": {
    "collapsed": false
   },
   "outputs": [
    {
     "data": {
      "text/plain": [
       "51.865078000000004"
      ]
     },
     "execution_count": 180,
     "metadata": {},
     "output_type": "execute_result"
    }
   ],
   "source": [
    "panel_data_IND1[0,0,0]"
   ]
  },
  {
   "cell_type": "code",
   "execution_count": 6,
   "metadata": {
    "collapsed": false
   },
   "outputs": [],
   "source": [
    "def fconv(panel_data):\n",
    "    del panel_data['Open']\n",
    "    del panel_data['Close']\n",
    "    del panel_data['High']\n",
    "    del panel_data['Low']\n",
    "\n",
    "    panel_data = panel_data[:,::-1,:]\n",
    "fconv(panel_data_IND1)\n",
    "#fconv(panel_data_IND2)"
   ]
  },
  {
   "cell_type": "code",
   "execution_count": 7,
   "metadata": {
    "collapsed": false
   },
   "outputs": [
    {
     "name": "stdout",
     "output_type": "stream",
     "text": [
      "days: 504\n",
      "companies in dow30: 30\n"
     ]
    }
   ],
   "source": [
    "numberOfDays = len(panel_data_IND1.axes[1]) -1 \n",
    "print \"days: \" + str(numberOfDays)\n",
    "n_IND1 = len(tickers_IND1)\n",
    "print \"companies in dow30: \" + str(n_IND1)\n",
    "#n_IND2 = len(tickers_IND2)\n",
    "#print \"companies in dow30: \" + str(n_IND2)"
   ]
  },
  {
   "cell_type": "code",
   "execution_count": 8,
   "metadata": {
    "collapsed": false
   },
   "outputs": [
    {
     "name": "stdout",
     "output_type": "stream",
     "text": [
      "0 []\n"
     ]
    }
   ],
   "source": [
    "c=0\n",
    "l=[]\n",
    "for i in range(2):\n",
    "    for j in range(numberOfDays + 1):\n",
    "        for k in range(len(tickers_IND1)):\n",
    "            \n",
    "            if (math.isnan(panel_data_IND1[i,j,k])):\n",
    "                if(l.count(tickers_IND1[k]) == 0):\n",
    "                    l.append(tickers_IND1[k])\n",
    "                c+=1\n",
    "print c, l"
   ]
  },
  {
   "cell_type": "code",
   "execution_count": 9,
   "metadata": {
    "collapsed": false
   },
   "outputs": [],
   "source": [
    "def flogprof(panel_data, numberOfDays, n):\n",
    "    logProf = [[round(math.log(panel_data[0,i,j] / panel_data[0,i-1,j]), 4) for i in range(1,numberOfDays + 1)] for j in range(n)] \n",
    "    return logProf\n",
    "    \n",
    "logProf_IND1 = flogprof(panel_data=panel_data_IND1, numberOfDays=numberOfDays,n=n_IND1)\n",
    "#logProf_IND2 = flogprof(panel_data=panel_data_IND2, numberOfDays=numberOfDays,n=n_IND2)"
   ]
  },
  {
   "cell_type": "code",
   "execution_count": 28,
   "metadata": {
    "collapsed": false
   },
   "outputs": [
    {
     "name": "stdout",
     "output_type": "stream",
     "text": [
      "30\n",
      "504\n"
     ]
    }
   ],
   "source": [
    "print len(logProf_IND1)\n",
    "print len(logProf_IND1[0])"
   ]
  },
  {
   "cell_type": "code",
   "execution_count": 34,
   "metadata": {
    "collapsed": false
   },
   "outputs": [
    {
     "name": "stdout",
     "output_type": "stream",
     "text": [
      "504\n",
      "30\n"
     ]
    }
   ],
   "source": [
    "a = np.array(logProf_IND1)\n",
    "logprofT = a.transpose() \n",
    "print len(logprofT)\n",
    "print len(logprofT[0])"
   ]
  },
  {
   "cell_type": "code",
   "execution_count": null,
   "metadata": {
    "collapsed": true
   },
   "outputs": [],
   "source": [
    "pr =  [[round(panel_data_IND1[0,i,j], 4) for i in range(numberOfDays)] for j in range(n)]"
   ]
  },
  {
   "cell_type": "code",
   "execution_count": 162,
   "metadata": {
    "collapsed": false
   },
   "outputs": [
    {
     "name": "stdout",
     "output_type": "stream",
     "text": [
      "30\n"
     ]
    }
   ],
   "source": [
    "print len(pr)"
   ]
  },
  {
   "cell_type": "code",
   "execution_count": 165,
   "metadata": {
    "collapsed": false
   },
   "outputs": [],
   "source": [
    "a = np.asarray(pr)\n",
    "prT = a.transpose()"
   ]
  },
  {
   "cell_type": "code",
   "execution_count": 166,
   "metadata": {
    "collapsed": true
   },
   "outputs": [],
   "source": [
    "import scipy\n",
    "from scipy.optimize import minimize, rosen, rosen_der"
   ]
  },
  {
   "cell_type": "code",
   "execution_count": 167,
   "metadata": {
    "collapsed": false
   },
   "outputs": [],
   "source": [
    "def ind(matrix, a, b):\n",
    "    Y = []\n",
    "    for day in matrix:\n",
    "        sum = 0\n",
    "        for i,elem in enumerate(day):\n",
    "            sum += a[i] + b[i]*elem\n",
    "        Y.append(sum)\n",
    "    return Y"
   ]
  },
  {
   "cell_type": "code",
   "execution_count": 168,
   "metadata": {
    "collapsed": true
   },
   "outputs": [],
   "source": [
    "def R(X, matrix):\n",
    "    n = len(matrix[0])\n",
    "    a = X[0:n]\n",
    "    b = X[n:]\n",
    "    Y = ind(matrix, a, b)\n",
    "    r = 0\n",
    "    for i,day in enumerate(matrix):\n",
    "        for elem in day:\n",
    "            r += (elem - Y[i])**2\n",
    "    return r"
   ]
  },
  {
   "cell_type": "code",
   "execution_count": 169,
   "metadata": {
    "collapsed": true
   },
   "outputs": [],
   "source": [
    "# решение задачи минимизации \n",
    "def minR(matrix):\n",
    "    X0 = np.zeros(len(matrix[0])*2)\n",
    "    res = scipy.optimize.minimize(fun=R, x0=X0, args=matrix)\n",
    "    return res"
   ]
  },
  {
   "cell_type": "code",
   "execution_count": 170,
   "metadata": {
    "collapsed": false
   },
   "outputs": [],
   "source": [
    "result =minR(prT)"
   ]
  },
  {
   "cell_type": "code",
   "execution_count": 171,
   "metadata": {
    "collapsed": false
   },
   "outputs": [
    {
     "name": "stdout",
     "output_type": "stream",
     "text": [
      "[ 0.00340844  0.00340844  0.00340844  0.00340844  0.00340844  0.00340844\n",
      "  0.00340844  0.00340844  0.00340844  0.00340844  0.00340844  0.00340844\n",
      "  0.00340844  0.00340844  0.00340844  0.00340844  0.00340844  0.00340844\n",
      "  0.00340844  0.00340844  0.00340844  0.00340844  0.00340844  0.00340844\n",
      "  0.00340844  0.00340844  0.00340844  0.00340844  0.00340844  0.00340844\n",
      "  0.0329744   0.03330342  0.03320327  0.03371612  0.03473687  0.03295383\n",
      "  0.03321912  0.03410113  0.03597942  0.03321172  0.03258317  0.03303705\n",
      "  0.03442352  0.03311272  0.03301533  0.03317097  0.03359814  0.03234693\n",
      "  0.03289055  0.03265585  0.03477091  0.03615034  0.03308714  0.03314205\n",
      "  0.03355226  0.03351335  0.03372632  0.03449302  0.03157979  0.03308297]\n"
     ]
    }
   ],
   "source": [
    "X = result.x\n",
    "print X"
   ]
  },
  {
   "cell_type": "code",
   "execution_count": 177,
   "metadata": {
    "collapsed": false
   },
   "outputs": [
    {
     "name": "stdout",
     "output_type": "stream",
     "text": [
      "504\n"
     ]
    }
   ],
   "source": [
    "n = len(prT[0])\n",
    "Y = ind(prT, X[:n], X[n:])\n",
    "print len(Y)"
   ]
  },
  {
   "cell_type": "code",
   "execution_count": null,
   "metadata": {
    "collapsed": true
   },
   "outputs": [],
   "source": [
    "#поведение индекса рынка"
   ]
  },
  {
   "cell_type": "code",
   "execution_count": 178,
   "metadata": {
    "collapsed": false,
    "scrolled": false
   },
   "outputs": [
    {
     "data": {
      "image/png": "[encoded data removed]",
      "text/plain": [
       "<matplotlib.figure.Figure at 0x1071f5c0>"
      ]
     },
     "metadata": {},
     "output_type": "display_data"
    }
   ],
   "source": [
    "plt.plot(range(numberOfDays), Y, '-g')\n",
    "plt.show()"
   ]
  },
  {
   "cell_type": "code",
   "execution_count": 179,
   "metadata": {
    "collapsed": false,
    "scrolled": true
   },
   "outputs": [
    {
     "data": {
      "image/png": "[encoded data removed]",
      "text/plain": [
       "<matplotlib.figure.Figure at 0xde8d160>"
      ]
     },
     "metadata": {},
     "output_type": "display_data"
    }
   ],
   "source": [
    "plt.hist(Y,24)\n",
    "plt.show()"
   ]
  },
  {
   "cell_type": "code",
   "execution_count": 181,
   "metadata": {
    "collapsed": false
   },
   "outputs": [],
   "source": [
    "# добаим безрисковый актив\n",
    "\n",
    "expandedprT = [day + [50 + 0.05*i] for i, day in enumerate(prT.tolist())]"
   ]
  },
  {
   "cell_type": "code",
   "execution_count": 185,
   "metadata": {
    "collapsed": false
   },
   "outputs": [],
   "source": [
    "result =minR(expandedprT)"
   ]
  },
  {
   "cell_type": "code",
   "execution_count": 186,
   "metadata": {
    "collapsed": false
   },
   "outputs": [
    {
     "name": "stdout",
     "output_type": "stream",
     "text": [
      "[ 0.00248078  0.00248078  0.00248078  0.00248078  0.00248078  0.00248078\n",
      "  0.00248078  0.00248078  0.00248078  0.00248078  0.00248078  0.00248078\n",
      "  0.00248078  0.00248078  0.00248078  0.00248078  0.00248078  0.00248078\n",
      "  0.00248078  0.00248078  0.00248078  0.00248078  0.00248078  0.00248078\n",
      "  0.00248078  0.00248078  0.00248078  0.00248078  0.00248078  0.00248078\n",
      "  0.00248078  0.03224706  0.03232801  0.03218837  0.03186789  0.0329129\n",
      "  0.03218776  0.0319106   0.03286947  0.03065293  0.03218747  0.03252511\n",
      "  0.03219607  0.03112821  0.0321816   0.03272837  0.03173774  0.03252172\n",
      "  0.03227722  0.03250227  0.0326743   0.03172166  0.03081769  0.03149645\n",
      "  0.03265008  0.03229264  0.03287767  0.03170392  0.03220836  0.03246367\n",
      "  0.03268777  0.03135282]\n"
     ]
    }
   ],
   "source": [
    "X = result.x\n",
    "print X"
   ]
  },
  {
   "cell_type": "code",
   "execution_count": 192,
   "metadata": {
    "collapsed": false
   },
   "outputs": [
    {
     "name": "stdout",
     "output_type": "stream",
     "text": [
      "504\n"
     ]
    }
   ],
   "source": [
    "n = len(expandedprT[0])\n",
    "Y = ind(expandedprT, X[:n], X[n:])\n",
    "print len(Y)"
   ]
  },
  {
   "cell_type": "code",
   "execution_count": 193,
   "metadata": {
    "collapsed": false
   },
   "outputs": [
    {
     "data": {
      "image/png": "[encoded data removed]",
      "text/plain": [
       "<matplotlib.figure.Figure at 0xe082898>"
      ]
     },
     "metadata": {},
     "output_type": "display_data"
    }
   ],
   "source": [
    "plt.plot(range(numberOfDays), Y, '-g')\n",
    "plt.show()"
   ]
  },
  {
   "cell_type": "code",
   "execution_count": 194,
   "metadata": {
    "collapsed": false
   },
   "outputs": [
    {
     "data": {
      "image/png": "[encoded data removed]",
      "text/plain": [
       "<matplotlib.figure.Figure at 0xdb980f0>"
      ]
     },
     "metadata": {},
     "output_type": "display_data"
    }
   ],
   "source": [
    "plt.hist(Y,24)\n",
    "plt.show()"
   ]
  },
  {
   "cell_type": "code",
   "execution_count": null,
   "metadata": {
    "collapsed": true
   },
   "outputs": [],
   "source": []
  }
 ],
 "metadata": {
  "anaconda-cloud": {},
  "kernelspec": {
   "display_name": "Python [conda root]",
   "language": "python",
   "name": "conda-root-py"
  },
  "language_info": {
   "codemirror_mode": {
    "name": "ipython",
    "version": 2
   },
   "file_extension": ".py",
   "mimetype": "text/x-python",
   "name": "python",
   "nbconvert_exporter": "python",
   "pygments_lexer": "ipython2",
   "version": "2.7.12"
  }
 },
 "nbformat": 4,
 "nbformat_minor": 1
}
