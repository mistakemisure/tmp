{
 "cells": [
  {
   "cell_type": "code",
   "execution_count": 17,
   "metadata": {
    "collapsed": true
   },
   "outputs": [],
   "source": [
    "import random as rand\n",
    "import matplotlib.pyplot as plt\n",
    "import math"
   ]
  },
  {
   "cell_type": "code",
   "execution_count": 19,
   "metadata": {
    "collapsed": true
   },
   "outputs": [],
   "source": [
    "N = 100"
   ]
  },
  {
   "cell_type": "code",
   "execution_count": 55,
   "metadata": {
    "collapsed": false
   },
   "outputs": [
    {
     "name": "stdout",
     "output_type": "stream",
     "text": [
      "100\n"
     ]
    }
   ],
   "source": [
    "features = [( rand.random() * 10 + 1, rand.random() * 10 + 1) for i in range(N)]\n",
    "print len(features)"
   ]
  },
  {
   "cell_type": "code",
   "execution_count": 56,
   "metadata": {
    "collapsed": false
   },
   "outputs": [
    {
     "name": "stdout",
     "output_type": "stream",
     "text": [
      "100\n"
     ]
    }
   ],
   "source": [
    "labels = [ int(10 - features[i][0] < features[i][1]) for i in range(len(features))]\n",
    "print len(labels)"
   ]
  },
  {
   "cell_type": "code",
   "execution_count": 57,
   "metadata": {
    "collapsed": false
   },
   "outputs": [
    {
     "data": {
      "image/png": "[encoded data removed]",
      "text/plain": [
       "<matplotlib.figure.Figure at 0x8142470>"
      ]
     },
     "metadata": {},
     "output_type": "display_data"
    }
   ],
   "source": [
    "for i in range(len(labels)):\n",
    "    if (labels[i]):\n",
    "        plt.plot(features[i][0], features[i][1], 'ro')\n",
    "    else:\n",
    "        plt.plot(features[i][0], features[i][1], 'bo')\n",
    "\n",
    "plt.plot([0,10], [10,0], 'g')\n",
    "plt.xlim(0,11)  \n",
    "plt.ylim(0,11)\n",
    "plt.show()"
   ]
  },
  {
   "cell_type": "code",
   "execution_count": 26,
   "metadata": {
    "collapsed": true
   },
   "outputs": [],
   "source": [
    "def fDist(X1, X2):\n",
    "    return math.sqrt((X1[0] - X2[0])**2 + (X1[1] - X2[1])**2)"
   ]
  },
  {
   "cell_type": "code",
   "execution_count": 27,
   "metadata": {
    "collapsed": false
   },
   "outputs": [
    {
     "data": {
      "text/plain": [
       "1.0"
      ]
     },
     "execution_count": 27,
     "metadata": {},
     "output_type": "execute_result"
    }
   ],
   "source": [
    "fDist(features[0], features[1])"
   ]
  },
  {
   "cell_type": "code",
   "execution_count": 45,
   "metadata": {
    "collapsed": false
   },
   "outputs": [],
   "source": [
    "def most_common(lst):\n",
    "    return max(set(lst), key=lst.count)"
   ]
  },
  {
   "cell_type": "code",
   "execution_count": 50,
   "metadata": {
    "collapsed": false
   },
   "outputs": [],
   "source": [
    "def fClass(X, k):\n",
    "    distList = [(fDist(features[i], X), labels[i]) for i in range(len(features))]\n",
    "    distList.sort()\n",
    "    answList = [distList[i] for i in range(k)]\n",
    "    \n",
    "    a = [answList[i][1] for i in range(len(answList))]\n",
    "       \n",
    "    return most_common(a)"
   ]
  },
  {
   "cell_type": "code",
   "execution_count": 59,
   "metadata": {
    "collapsed": false
   },
   "outputs": [
    {
     "data": {
      "text/plain": [
       "1"
      ]
     },
     "execution_count": 59,
     "metadata": {},
     "output_type": "execute_result"
    }
   ],
   "source": [
    "fClass((4.5,6),4)"
   ]
  },
  {
   "cell_type": "code",
   "execution_count": 82,
   "metadata": {
    "collapsed": true
   },
   "outputs": [],
   "source": [
    "def fValid(n, k):\n",
    "    mis = 0\n",
    "    for i in range(n):\n",
    "        x = (rand.random() * 10 + 1, rand.random() * 10 + 1)\n",
    "        l = int(10 - x[0] < x[1])\n",
    "        y = fClass(x, k)\n",
    "        \n",
    "        if (y != l):\n",
    "            mis += 1\n",
    "            \n",
    "    return (float(mis)/n)*100"
   ]
  },
  {
   "cell_type": "code",
   "execution_count": 85,
   "metadata": {
    "collapsed": false
   },
   "outputs": [
    {
     "name": "stdout",
     "output_type": "stream",
     "text": [
      "6 3.0\n"
     ]
    }
   ],
   "source": [
    "bestK = 1\n",
    "bestR = 101\n",
    "\n",
    "for i in range(1, 15):\n",
    "    R = fValid(100, k=i)\n",
    "    if (R < bestR):\n",
    "        bestR = R\n",
    "        bestK = i\n",
    "print bestK, bestR"
   ]
  },
  {
   "cell_type": "code",
   "execution_count": null,
   "metadata": {
    "collapsed": true
   },
   "outputs": [],
   "source": []
  }
 ],
 "metadata": {
  "anaconda-cloud": {},
  "kernelspec": {
   "display_name": "Python [conda root]",
   "language": "python",
   "name": "conda-root-py"
  },
  "language_info": {
   "codemirror_mode": {
    "name": "ipython",
    "version": 2
   },
   "file_extension": ".py",
   "mimetype": "text/x-python",
   "name": "python",
   "nbconvert_exporter": "python",
   "pygments_lexer": "ipython2",
   "version": "2.7.12"
  }
 },
 "nbformat": 4,
 "nbformat_minor": 1
}
